{
 "cells": [
  {
   "cell_type": "markdown",
   "id": "7e948288-2920-4e10-ac7c-685249763018",
   "metadata": {},
   "source": [
    "# Import Libraries"
   ]
  },
  {
   "cell_type": "code",
   "execution_count": null,
   "id": "2fa14fd5-22c5-40f0-8521-036ba7450798",
   "metadata": {},
   "outputs": [],
   "source": [
    "import os\n",
    "os.environ[\"TF_CPP_MIN_LOG_LEVEL\"] = \"3\"\n",
    "\n",
    "import cv2\n",
    "import tqdm\n",
    "import numpy as np\n",
    "import pandas as pd\n",
    "import matplotlib.pyplot as plt\n",
    "\n",
    "import tensorflow as tf\n",
    "from tensorflow.keras import layers, models, optimizers, callbacks\n",
    "from tensorflow.keras.utils import plot_model, img_to_array\n",
    "\n",
    "from IPython import display"
   ]
  },
  {
   "cell_type": "markdown",
   "id": "a1f84a90-a549-4389-928b-2507d2d6b20d",
   "metadata": {},
   "source": [
    "# Load Data"
   ]
  },
  {
   "cell_type": "code",
   "execution_count": null,
   "id": "da2842a0-ef05-48c9-946d-589ce78c46bf",
   "metadata": {},
   "outputs": [],
   "source": [
    "high_light_train_images_path = \"/mnt/d/Datasets/lol-dataset/our485/high\"\n",
    "low_light_train_images_path = \"/mnt/d/Datasets/lol-dataset/our485/low\""
   ]
  },
  {
   "cell_type": "code",
   "execution_count": null,
   "id": "32378a52-8cdf-4e85-a63d-4a643bb1f857",
   "metadata": {},
   "outputs": [],
   "source": [
    "high_light_test_images_path = \"/mnt/d/Datasets/lol-dataset/eval15/high\"\n",
    "low_light_test_images_path = \"/mnt/d/Datasets/lol-dataset/eval15/low\""
   ]
  },
  {
   "cell_type": "code",
   "execution_count": null,
   "id": "d4fddd7e-7c4d-418c-86d5-0148dd6409a1",
   "metadata": {},
   "outputs": [],
   "source": [
    "SIZE = 256"
   ]
  },
  {
   "cell_type": "code",
   "execution_count": null,
   "id": "db962650-bc4d-48bf-907a-3150e1ffedc3",
   "metadata": {},
   "outputs": [],
   "source": [
    "def load_images(path, size=224, count=None):\n",
    "    if count == None:\n",
    "        files = os.listdir(path)\n",
    "    else:\n",
    "        files = os.listdir(path)[:count]\n",
    "    images = []\n",
    "\n",
    "    for file in tqdm.tqdm(files):\n",
    "        img_path = os.path.join(path, file)\n",
    "        img = cv2.imread(img_path)\n",
    "        img = cv2.cvtColor(img, cv2.COLOR_BGR2RGB)\n",
    "        img = cv2.resize(img, (size, size))\n",
    "        img = img.astype(\"float32\") / 255.\n",
    "        img = img_to_array(img)\n",
    "        images.append(img)\n",
    "\n",
    "    images = np.array(images)\n",
    "    return images"
   ]
  },
  {
   "cell_type": "code",
   "execution_count": null,
   "id": "00d907bb-4463-4ee2-9dbe-75d03d18f5a1",
   "metadata": {},
   "outputs": [],
   "source": [
    "train_low_images = load_images(low_light_train_images_path, size=SIZE)"
   ]
  },
  {
   "cell_type": "code",
   "execution_count": null,
   "id": "86d4639c-f449-4bed-9538-ec7631d5dd0c",
   "metadata": {},
   "outputs": [],
   "source": [
    "train_high_images = load_images(high_light_train_images_path, size=SIZE)"
   ]
  },
  {
   "cell_type": "code",
   "execution_count": null,
   "id": "96f51606-8027-483b-8680-3ae868c9631b",
   "metadata": {},
   "outputs": [],
   "source": [
    "test_low_images = load_images(low_light_test_images_path, size=SIZE)"
   ]
  },
  {
   "cell_type": "code",
   "execution_count": null,
   "id": "e9b99e7b-646b-4482-a6f8-2eee56641e1e",
   "metadata": {},
   "outputs": [],
   "source": [
    "test_high_images = load_images(high_light_test_images_path, size=SIZE)"
   ]
  },
  {
   "cell_type": "markdown",
   "id": "81d19f50-b399-4c3b-9fc4-d9c1d4b12f02",
   "metadata": {},
   "source": [
    "# Visualization"
   ]
  },
  {
   "cell_type": "code",
   "execution_count": null,
   "id": "912c30d0-07be-4ff3-b912-3c6761347735",
   "metadata": {},
   "outputs": [],
   "source": [
    "fig, axes = plt.subplots(nrows=1, ncols=2, figsize=(8, 5))\n",
    "\n",
    "axes[0].imshow(train_low_images[10])\n",
    "axes[0].set_title(\"Low-Light Image\")\n",
    "axes[0].axis(\"off\")\n",
    "\n",
    "axes[1].imshow(train_high_images[10])\n",
    "axes[1].set_title(\"High-Light Image\")\n",
    "axes[1].axis(\"off\")\n",
    "\n",
    "plt.show()"
   ]
  },
  {
   "cell_type": "markdown",
   "id": "db03e111-0325-4fb9-be09-2be7dbae5fd2",
   "metadata": {},
   "source": [
    "# Model"
   ]
  },
  {
   "cell_type": "code",
   "execution_count": null,
   "id": "01e6f0cc-e155-481b-8e89-d56f1fb895fd",
   "metadata": {},
   "outputs": [],
   "source": [
    "def down_block(x, filters, kernel_size, apply_batch_normalization=True):\n",
    "    x = layers.Conv2D(filters, kernel_size, padding=\"same\", strides=2)(x)\n",
    "    if apply_batch_normalization:\n",
    "        x = layers.BatchNormalization()(x)\n",
    "\n",
    "    x = layers.LeakyReLU()(x)\n",
    "    return x"
   ]
  },
  {
   "cell_type": "code",
   "execution_count": null,
   "id": "296ca620-cdf1-4e1e-911f-5e1f0e4d9ac4",
   "metadata": {},
   "outputs": [],
   "source": [
    "def up_block(x, skip, filters, kernel_size, dropout=False):\n",
    "    x = layers.Conv2DTranspose(filters, kernel_size, padding=\"same\", strides=2)(x)\n",
    "    if dropout:\n",
    "        x = layers.Dropout(0.1)(x)\n",
    "\n",
    "    x = layers.LeakyReLU()(x)\n",
    "    x = layers.concatenate([x, skip])\n",
    "    return x"
   ]
  },
  {
   "cell_type": "code",
   "execution_count": null,
   "id": "ab94850f-e12b-4e27-98e5-8f9c21f1a084",
   "metadata": {},
   "outputs": [],
   "source": [
    "def build_model(size):\n",
    "    inputs = layers.Input(shape=[size, size, 3])\n",
    "\n",
    "    # Downsampling\n",
    "    d1 = down_block(inputs, 128, (3, 3), apply_batch_normalization=False)\n",
    "    d2 = down_block(d1, 128, (3, 3), apply_batch_normalization=False)\n",
    "    d3 = down_block(d2, 256, (3, 3), apply_batch_normalization=True)\n",
    "    d4 = down_block(d3, 512, (3, 3), apply_batch_normalization=True)\n",
    "    d5 = down_block(d4, 512, (3, 3), apply_batch_normalization=True)\n",
    "\n",
    "    # Upsampling\n",
    "    u1 = up_block(d5, d4, 512, (3, 3), dropout=False)\n",
    "    u2 = up_block(u1, d3, 256, (3, 3), dropout=False)\n",
    "    u3 = up_block(u2, d2, 128, (3, 3), dropout=False)\n",
    "    u4 = up_block(u3, d1, 128, (3, 3), dropout=False)\n",
    "\n",
    "    # Final upsampling\n",
    "    u5 = layers.Conv2DTranspose(64, (3, 3), padding='same', strides=2)(u4)\n",
    "    u5 = layers.LeakyReLU()(u5)\n",
    "    u5 = layers.concatenate([u5, inputs])\n",
    "\n",
    "    # Output layer\n",
    "    outputs = layers.Conv2D(3, (1, 1), activation='sigmoid', padding='same')(u5)\n",
    "    return tf.keras.Model(inputs=inputs, outputs=outputs)"
   ]
  },
  {
   "cell_type": "code",
   "execution_count": null,
   "id": "166ce6a9-5098-4e74-8f81-f4d3bb072654",
   "metadata": {},
   "outputs": [],
   "source": [
    "model = build_model(size=SIZE)"
   ]
  },
  {
   "cell_type": "code",
   "execution_count": null,
   "id": "e7ca09f1-996e-44fd-95c4-15a3738c4da8",
   "metadata": {},
   "outputs": [],
   "source": [
    "model.summary()"
   ]
  },
  {
   "cell_type": "code",
   "execution_count": null,
   "id": "02399ca1-25c8-4753-9fa4-144de83d118b",
   "metadata": {},
   "outputs": [],
   "source": [
    "plot_model(model, show_shapes=True, show_layer_names=True)"
   ]
  },
  {
   "cell_type": "code",
   "execution_count": null,
   "id": "9f1013bb-ce3a-4851-be8b-b48353ff046c",
   "metadata": {},
   "outputs": [],
   "source": [
    "model.compile(\n",
    "    optimizer = optimizers.Adam(learning_rate=0.001),\n",
    "    loss = \"mean_absolute_error\",\n",
    "    metrics = [\"accuracy\"]\n",
    ")"
   ]
  },
  {
   "cell_type": "markdown",
   "id": "0eb03646-c2e3-42fb-9c10-d8147436e2ee",
   "metadata": {},
   "source": [
    "# Train"
   ]
  },
  {
   "cell_type": "code",
   "execution_count": null,
   "id": "119f0074-18be-4a81-a9e4-31401d55a3c5",
   "metadata": {},
   "outputs": [],
   "source": [
    "history = model.fit(\n",
    "    train_low_images,\n",
    "    train_high_images,\n",
    "    epochs = 100,\n",
    "    batch_size = 16,\n",
    "    validation_data=(test_low_images, test_high_images),\n",
    "    verbose = 1\n",
    ")"
   ]
  },
  {
   "cell_type": "markdown",
   "id": "a8bd27cf-1cc0-4ec7-bc4b-27b8bcad8e90",
   "metadata": {},
   "source": [
    "# Results"
   ]
  },
  {
   "cell_type": "code",
   "execution_count": null,
   "id": "20455562-3825-44d7-b995-91c381729627",
   "metadata": {},
   "outputs": [],
   "source": [
    "history_df = pd.DataFrame(history.history)\n",
    "history_df.head()"
   ]
  },
  {
   "cell_type": "code",
   "execution_count": null,
   "id": "36fa2288-f340-4e5c-915d-158353b876be",
   "metadata": {},
   "outputs": [],
   "source": [
    "plt.figure()\n",
    "plt.plot(history.history[\"loss\"])\n",
    "plt.plot(history.history[\"val_loss\"])\n",
    "plt.xlabel(\"Epoch\")\n",
    "plt.ylabel(\"Loss\")\n",
    "plt.legend([\"train\", \"valid\"])\n",
    "plt.show()"
   ]
  },
  {
   "cell_type": "code",
   "execution_count": null,
   "id": "470c33e3-305b-4dc5-8f33-dad595ab2459",
   "metadata": {},
   "outputs": [],
   "source": [
    "plt.figure()\n",
    "plt.plot(history.history[\"accuracy\"])\n",
    "plt.plot(history.history[\"val_accuracy\"])\n",
    "plt.xlabel(\"Epoch\")\n",
    "plt.ylabel(\"Accuracy\")\n",
    "plt.legend([\"train\", \"valid\"])\n",
    "plt.show()"
   ]
  },
  {
   "cell_type": "code",
   "execution_count": null,
   "id": "bf9c9a3c-a971-441f-a4ec-b212c3fb47d7",
   "metadata": {},
   "outputs": [],
   "source": [
    "def predict_images(test_low, test_high, count=5, size=224):\n",
    "    for _ in range(count):\n",
    "        random_idx = np.random.randint(len(test_low))\n",
    "        predicted = model.predict(test_low[random_idx].reshape(1, size, size, 3), verbose=0)\n",
    "        predicted = np.clip(predicted, 0.0, 1.0).reshape(size, size, 3)\n",
    "        \n",
    "        fig, axes = plt.subplots(nrows=1, ncols=3, figsize=(10, 5))\n",
    "        \n",
    "        axes[0].imshow(test_low[random_idx])\n",
    "        axes[0].set_title(\"Low-Light Image\")\n",
    "        axes[0].axis(\"off\")\n",
    "        \n",
    "        axes[1].imshow(test_high[random_idx])\n",
    "        axes[1].set_title(\"Ground Truth\")\n",
    "        axes[1].axis(\"off\")\n",
    "\n",
    "        axes[2].imshow(predicted)\n",
    "        axes[2].set_title(\"Enhanced Image\")\n",
    "        axes[2].axis(\"off\")\n",
    "        \n",
    "        plt.show()"
   ]
  },
  {
   "cell_type": "code",
   "execution_count": null,
   "id": "d10318da-b29d-4de6-9bde-8e4298dd8dbe",
   "metadata": {},
   "outputs": [],
   "source": [
    "predict_images(test_low_images, test_high_images, count=5, size=SIZE)"
   ]
  },
  {
   "cell_type": "code",
   "execution_count": null,
   "id": "65f4fa0e-90fe-4cf8-9301-faf31c7ceaba",
   "metadata": {},
   "outputs": [],
   "source": []
  }
 ],
 "metadata": {
  "kernelspec": {
   "display_name": "Python 3 (ipykernel)",
   "language": "python",
   "name": "python3"
  },
  "language_info": {
   "codemirror_mode": {
    "name": "ipython",
    "version": 3
   },
   "file_extension": ".py",
   "mimetype": "text/x-python",
   "name": "python",
   "nbconvert_exporter": "python",
   "pygments_lexer": "ipython3",
   "version": "3.10.12"
  }
 },
 "nbformat": 4,
 "nbformat_minor": 5
}
